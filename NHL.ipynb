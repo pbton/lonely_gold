{
 "cells": [
  {
   "cell_type": "code",
   "execution_count": 50,
   "id": "d447d6df",
   "metadata": {},
   "outputs": [],
   "source": [
    "from urllib.request import Request, urlopen\n",
    "import pandas as pd\n",
    "from bs4 import BeautifulSoup\n",
    "from argparse import ArgumentParser\n",
    "import numpy as np"
   ]
  },
  {
   "cell_type": "code",
   "execution_count": 56,
   "id": "c8baeb72",
   "metadata": {},
   "outputs": [],
   "source": [
    "# Query the hockey-reference website for data and transform html into a readable table\n",
    "html1 = urllib.request.urlopen(\"https://www.hockey-reference.com/leagues/NHL_2024_skaters.html#stats::points\").read()\n",
    "soup1 = BeautifulSoup(html1,\"html.parser\")\n",
    "\n",
    "table1 = soup1.find_all('table')[0]\n",
    "table_body1 = table1.find('tbody')\n",
    "rows1 = table_body1.find_all('tr')\n",
    "\n",
    "column_headers = ['Rk','Player','Age','Team','Pos','GP','G','A','PTS','+/-','PIM','EVG','PPG','SHG','GWG','EV','PP',\n",
    "                  'SH','SOG','SPCT','TSA','TOI','ATOI','FOW','FOL','FO%','BL','HIT','TAKE','GIVE','Awards']\n",
    "\n",
    "full_data = [[td1.getText() for td1 in rows1[i].find_all(['th','td'])]\n",
    "            for i in range(len(rows1))]"
   ]
  },
  {
   "cell_type": "code",
   "execution_count": 58,
   "id": "8fa3ed9f",
   "metadata": {},
   "outputs": [
    {
     "name": "stdout",
     "output_type": "stream",
     "text": [
      "        Rk            Player Age Team Pos  GP   G    A  PTS +/-  ...      TOI  \\\n",
      "0        1   Nikita Kucherov  30  TBL  RW  81  44  100  144   8  ...  1755:10   \n",
      "1        2  Nathan MacKinnon  28  COL   C  82  51   89  140  35  ...  1870:46   \n",
      "2        3    Connor McDavid  27  EDM   C  76  32  100  132  35  ...  1623:18   \n",
      "3        4    Artemi Panarin  32  NYR  LW  82  49   71  120  18  ...  1649:45   \n",
      "4        5    David Pastrňák  27  BOS  RW  82  47   63  110  21  ...  1634:14   \n",
      "...    ...               ...  ..  ...  ..  ..  ..  ...  ...  ..  ...      ...   \n",
      "1164  1165     Vincent Iorio  21  WSH   D   6   0    0    0   1  ...    58:57   \n",
      "1165  1166  Charlie Lindgren  30  WSH   G  50   0    0    0   0  ...  2852:23   \n",
      "1166  1167    Hunter Shepard  28  WSH   G   4   0    0    0   0  ...   244:50   \n",
      "1167  1168       Joe Snively  28  WSH   F   3   0    0    0  -1  ...    25:02   \n",
      "1168          League Average                                     ...            \n",
      "\n",
      "       ATOI  FOW  FOL   FO%  BL  HIT TAKE GIVE                          Awards  \n",
      "0     21:40    2    2  50.0  35   45   62   96      AS-1,Byng-22,Hart-2,Ross-1  \n",
      "1     22:49  607  707  46.2  69   55   42   82  AS-1,Hart-1,Selke-37,Pearson-1  \n",
      "2     21:22  442  423  51.1  39  118   68   84    AS-2,Byng-29,Hart-3,Selke-30  \n",
      "3     20:07    1    9  10.0  15   18   34   72             AS-1,Byng-15,Hart-5  \n",
      "4     19:56    8   16  33.3  19   70   54   98             AS-2,Byng-49,Hart-8  \n",
      "...     ...  ...  ...   ...  ..  ...  ...  ...                             ...  \n",
      "1164   9:50    0    0         3    3    1    5                                  \n",
      "1165  57:03    0    0         0    0    1   18          AS-11,Hart-12,Vezina-8  \n",
      "1166  61:13    0    0         0    0    0    4                                  \n",
      "1167   8:21    0    0         0    1    1    0                                  \n",
      "1168  18:43            50.0                                                     \n",
      "\n",
      "[1169 rows x 31 columns]\n"
     ]
    }
   ],
   "source": [
    "df = pd.DataFrame(full_data, columns=column_headers)\n",
    "print(df)"
   ]
  },
  {
   "cell_type": "markdown",
   "id": "e1370ae2",
   "metadata": {},
   "source": [
    "And there's our dataset! Looks like a few goalies slipped in, so let's clean those up."
   ]
  },
  {
   "cell_type": "code",
   "execution_count": null,
   "id": "373e8e78",
   "metadata": {},
   "outputs": [],
   "source": []
  }
 ],
 "metadata": {
  "kernelspec": {
   "display_name": "Python 3 (ipykernel)",
   "language": "python",
   "name": "python3"
  },
  "language_info": {
   "codemirror_mode": {
    "name": "ipython",
    "version": 3
   },
   "file_extension": ".py",
   "mimetype": "text/x-python",
   "name": "python",
   "nbconvert_exporter": "python",
   "pygments_lexer": "ipython3",
   "version": "3.10.2"
  }
 },
 "nbformat": 4,
 "nbformat_minor": 5
}
